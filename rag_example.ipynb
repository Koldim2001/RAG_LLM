{
 "cells": [
  {
   "cell_type": "markdown",
   "metadata": {},
   "source": [
    "# RAG примеры"
   ]
  },
  {
   "cell_type": "markdown",
   "metadata": {},
   "source": [
    "---"
   ]
  },
  {
   "cell_type": "code",
   "execution_count": null,
   "metadata": {},
   "outputs": [],
   "source": [
    "from services.MakeDatasetRAG import MakeDatasetRAG\n",
    "\n",
    "mk = MakeDatasetRAG()\n",
    "\n",
    "url_list = [\n",
    "    \"https://docs.ultralytics.com/tasks/segment\",\n",
    "    \"https://docs.ultralytics.com/tasks/detect\",\n",
    "    \"https://docs.ultralytics.com/tasks\",\n",
    "    \"https://docs.ultralytics.com/modes/\",\n",
    "    \"https://docs.ultralytics.com/solutions\",\n",
    "    \"https://github.com/Koldim2001\",\n",
    "    \"https://github.com/Koldim2001/YOLO-Patch-Based-Inference\",\n",
    "    \"https://github.com/Koldim2001/TrafficAnalyzer\",\n",
    "    \"https://github.com/Koldim2001/COCO_to_YOLOv8\"\n",
    "]\n",
    "\n",
    "collection_db_name = \"data\"\n",
    "\n",
    "mk.process(url_list, collection_db_name, show_data_info=True)\n"
   ]
  },
  {
   "cell_type": "markdown",
   "metadata": {},
   "source": [
    "Отображение первых строк бд:"
   ]
  },
  {
   "cell_type": "code",
   "execution_count": null,
   "metadata": {},
   "outputs": [],
   "source": [
    "mk.vector_db_node.display_first_n_records(collection_db_name)"
   ]
  },
  {
   "cell_type": "code",
   "execution_count": 3,
   "metadata": {},
   "outputs": [
    {
     "data": {
      "text/plain": [
       "156"
      ]
     },
     "execution_count": 3,
     "metadata": {},
     "output_type": "execute_result"
    }
   ],
   "source": [
    "mk.vector_db_node.get_total_records(collection_db_name)"
   ]
  },
  {
   "cell_type": "markdown",
   "metadata": {},
   "source": [
    "---"
   ]
  },
  {
   "cell_type": "markdown",
   "metadata": {},
   "source": [
    "# Общение с моделью:"
   ]
  },
  {
   "cell_type": "code",
   "execution_count": 1,
   "metadata": {},
   "outputs": [
    {
     "name": "stderr",
     "output_type": "stream",
     "text": [
      "2025-02-20 13:21:47,273 - nodes.VectorDBNode - INFO - Connected to Milvus at localhost:19530 successfully!\n"
     ]
    }
   ],
   "source": [
    "from services.AskLLM import AskLLM\n",
    "ask = AskLLM()"
   ]
  },
  {
   "cell_type": "code",
   "execution_count": 2,
   "metadata": {},
   "outputs": [],
   "source": [
    "query= \"что такое ультралитикс\"\n",
    "message_number=0\n",
    "collection_db_name=\"data\"\n",
    "previous_messages=[]\n",
    "show_data_info=False"
   ]
  },
  {
   "cell_type": "code",
   "execution_count": 3,
   "metadata": {},
   "outputs": [
    {
     "name": "stderr",
     "output_type": "stream",
     "text": [
      "2025-02-19 22:48:26,250 - nodes.EmbedderNode - INFO - Обработка батча 1, размер батча: 1\n",
      "2025-02-19 22:48:27,114 - root - INFO - Размер запроса: 6533 символов, 1767 токенов\n",
      "2025-02-19 22:48:37,829 - httpx - INFO - HTTP Request: POST http://localhost:8071/v1/chat/completions \"HTTP/1.1 200 OK\"\n"
     ]
    }
   ],
   "source": [
    "res = ask.process(query, message_number, collection_db_name, previous_messages, show_data_info)"
   ]
  },
  {
   "cell_type": "code",
   "execution_count": 4,
   "metadata": {},
   "outputs": [
    {
     "name": "stdout",
     "output_type": "stream",
     "text": [
      "Ультралитикс (Ultralytics) — это компания, которая разрабатывает и поддерживает YOLO (You Only Look Once) — популярную серию алгоритмов для обнаружения объектов в изображениях и видео. YOLO позволяет быстро и эффективно обнаруживать объекты с высокой точностью.\n",
      "\n",
      "Основные аспекты YOLO и Ultralytics:\n",
      "\n",
      "1. **Обнаружение объектов**: YOLO использует один слой нейронной сети для обнаружения объектов в изображении, что делает его очень быстрым и эффективным.\n",
      "\n",
      "2. **Форматы экспорта**: Ultralytics предоставляет инструменты для экспорта YOLO моделей в различные форматы, такие как ONNX, TensorRT и OpenVINO, что позволяет использовать модели на различных устройствах и платформах.\n",
      "\n",
      "3. **Бенчмаркинг**: Ультралитикс предлагает инструменты для бенчмаркинга моделей, что помогает оценить производительность и эффективность различных форматов и на разных устройствах.\n",
      "\n",
      "4. **Реальное время**: YOLO может использоваться для реального времени обнаружения объектов, что делает его полезным для таких задач, как объектный счёт, трекинг объектов, защита конфиденциальности и т.д.\n",
      "\n",
      "5. **Сегментация объектов**: Ультралитикс также предлагает YOLO для сегментации объектов, что позволяет точно выделить объекты из изображений и видео.\n",
      "\n",
      "6. **Обучение и валидация**: Ультралитикс предоставляет инструменты для обучения и валидации моделей YOLO, включая возможность использования предобученных моделей и трансферного обучения.\n",
      "\n",
      "7. **Документация и примеры**: Ультралитикс предлагает подробную документацию и примеры использования YOLO, что помогает новичкам и опытным разработчикам быстро начать работу с этими алгоритмами.\n",
      "\n",
      "Таким образом, Ультралитикс предоставляет мощные инструменты для обнаружения и сегментации объектов, а также инструменты для их оптимизации и использования в различных приложениях.\n"
     ]
    }
   ],
   "source": [
    "print(res.answer)"
   ]
  },
  {
   "cell_type": "markdown",
   "metadata": {},
   "source": [
    "---"
   ]
  },
  {
   "cell_type": "markdown",
   "metadata": {},
   "source": [
    "# Работа с историей чата"
   ]
  },
  {
   "cell_type": "code",
   "execution_count": 14,
   "metadata": {},
   "outputs": [
    {
     "name": "stdout",
     "output_type": "stream",
     "text": [
      "[HumanMessage(content='что такое ультралитикс', additional_kwargs={}, response_metadata={}), AIMessage(content='Ультралитикс (Ultralytics) — это компания, которая разрабатывает и поддерживает YOLO (You Only Look Once) — популярную серию алгоритмов для обнаружения объектов в изображениях и видео. YOLO позволяет быстро и эффективно обнаруживать объекты с высокой точностью.\\n\\nОсновные аспекты YOLO и Ultralytics:\\n\\n1. **Обнаружение объектов**: YOLO использует один слой нейронной сети для обнаружения объектов в изображении, что делает его очень быстрым и эффективным.\\n\\n2. **Форматы экспорта**: Ultralytics предоставляет инструменты для экспорта YOLO моделей в различные форматы, такие как ONNX, TensorRT и OpenVINO, что позволяет использовать модели на различных устройствах и платформах.\\n\\n3. **Бенчмаркинг**: Ультралитикс предлагает инструменты для бенчмаркинга моделей, что помогает оценить производительность и эффективность различных форматов и на разных устройствах.\\n\\n4. **Реальное время**: YOLO может использоваться для реального времени обнаружения объектов, что делает его полезным для таких задач, как объектный счёт, трекинг объектов, защита конфиденциальности и т.д.\\n\\n5. **Сегментация объектов**: Ультралитикс также предлагает YOLO для сегментации объектов, что позволяет точно выделить объекты из изображений и видео.\\n\\n6. **Обучение и валидация**: Ультралитикс предоставляет инструменты для обучения и валидации моделей YOLO, включая возможность использования предобученных моделей и трансферного обучения.\\n\\n7. **Документация и примеры**: Ультралитикс предлагает подробную документацию и примеры использования YOLO, что помогает новичкам и опытным разработчикам быстро начать работу с этими алгоритмами.\\n\\nТаким образом, Ультралитикс предоставляет мощные инструменты для обнаружения и сегментации объектов, а также инструменты для их оптимизации и использования в различных приложениях.', additional_kwargs={}, response_metadata={})]\n"
     ]
    }
   ],
   "source": [
    "previous_messages = ask.get_new_history(res)\n",
    "print(previous_messages)"
   ]
  },
  {
   "cell_type": "code",
   "execution_count": 15,
   "metadata": {},
   "outputs": [
    {
     "data": {
      "text/plain": [
       "2"
      ]
     },
     "execution_count": 15,
     "metadata": {},
     "output_type": "execute_result"
    }
   ],
   "source": [
    "len(previous_messages)"
   ]
  },
  {
   "cell_type": "code",
   "execution_count": 16,
   "metadata": {},
   "outputs": [],
   "source": [
    "query= \"напиши в одно предложение\"\n",
    "message_number=1\n",
    "collection_db_name=\"data\"\n",
    "show_data_info=False"
   ]
  },
  {
   "cell_type": "code",
   "execution_count": 17,
   "metadata": {},
   "outputs": [
    {
     "name": "stderr",
     "output_type": "stream",
     "text": [
      "2025-02-19 22:49:01,715 - httpx - INFO - HTTP Request: POST http://localhost:8071/v1/chat/completions \"HTTP/1.1 200 OK\"\n",
      "2025-02-19 22:49:01,717 - nodes.LLMNode - INFO - Измененный текст сообщения для получения эмеддингов: Пожалуйста, напиши одно предложение, которое описывает ультралитикс и его алгоритмы обнаружения объектов.\n",
      "2025-02-19 22:49:01,718 - nodes.EmbedderNode - INFO - Обработка батча 1, размер батча: 1\n",
      "2025-02-19 22:49:02,040 - root - INFO - Размер запроса: 8410 символов, 2038 токенов\n",
      "2025-02-19 22:49:05,198 - httpx - INFO - HTTP Request: POST http://localhost:8071/v1/chat/completions \"HTTP/1.1 200 OK\"\n"
     ]
    }
   ],
   "source": [
    "res = ask.process(query, message_number, collection_db_name, previous_messages, show_data_info)"
   ]
  },
  {
   "cell_type": "code",
   "execution_count": 18,
   "metadata": {},
   "outputs": [
    {
     "name": "stdout",
     "output_type": "stream",
     "text": [
      "Ультралитикс YOLO11 может использоваться для реального времени обнаружения объектов, что позволяет точно считывать объекты в живых видео потоках, создавать системы безопасности с тревожными алармами при обнаружении новых объектов, улучшать системы управления очередями путем точного счёта и трекинга людей, а также для мониторинга тренировок с высокой точностью и скоростью.\n"
     ]
    }
   ],
   "source": [
    "print(res.answer)"
   ]
  },
  {
   "cell_type": "markdown",
   "metadata": {},
   "source": [
    "Было:"
   ]
  },
  {
   "cell_type": "code",
   "execution_count": 19,
   "metadata": {},
   "outputs": [
    {
     "data": {
      "text/plain": [
       "'напиши в одно предложение'"
      ]
     },
     "execution_count": 19,
     "metadata": {},
     "output_type": "execute_result"
    }
   ],
   "source": [
    "res.query"
   ]
  },
  {
   "cell_type": "markdown",
   "metadata": {},
   "source": [
    "Стало:"
   ]
  },
  {
   "cell_type": "code",
   "execution_count": 20,
   "metadata": {},
   "outputs": [
    {
     "data": {
      "text/plain": [
       "'Пожалуйста, напиши одно предложение, которое описывает ультралитикс и его алгоритмы обнаружения объектов.'"
      ]
     },
     "execution_count": 20,
     "metadata": {},
     "output_type": "execute_result"
    }
   ],
   "source": [
    "res.upgraded_query"
   ]
  },
  {
   "cell_type": "markdown",
   "metadata": {},
   "source": [
    "Как посчитать число токенов:"
   ]
  },
  {
   "cell_type": "code",
   "execution_count": null,
   "metadata": {},
   "outputs": [
    {
     "data": {
      "text/plain": [
       "5"
      ]
     },
     "execution_count": 3,
     "metadata": {},
     "output_type": "execute_result"
    }
   ],
   "source": [
    "ask.llm_node.count_tokens(\"Привет всем!\")"
   ]
  },
  {
   "cell_type": "code",
   "execution_count": 8,
   "metadata": {},
   "outputs": [
    {
     "data": {
      "text/plain": [
       "True"
      ]
     },
     "execution_count": 8,
     "metadata": {},
     "output_type": "execute_result"
    }
   ],
   "source": [
    "ask.llm_node.health_check()"
   ]
  },
  {
   "cell_type": "markdown",
   "metadata": {},
   "source": [
    "---"
   ]
  }
 ],
 "metadata": {
  "kernelspec": {
   "display_name": "WORK",
   "language": "python",
   "name": "python3"
  },
  "language_info": {
   "codemirror_mode": {
    "name": "ipython",
    "version": 3
   },
   "file_extension": ".py",
   "mimetype": "text/x-python",
   "name": "python",
   "nbconvert_exporter": "python",
   "pygments_lexer": "ipython3",
   "version": "3.11.11"
  }
 },
 "nbformat": 4,
 "nbformat_minor": 4
}
