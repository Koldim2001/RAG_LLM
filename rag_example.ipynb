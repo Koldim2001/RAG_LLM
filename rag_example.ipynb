{
 "cells": [
  {
   "cell_type": "markdown",
   "metadata": {},
   "source": [
    "# RAG примеры"
   ]
  },
  {
   "cell_type": "markdown",
   "metadata": {},
   "source": [
    "---"
   ]
  },
  {
   "cell_type": "code",
   "execution_count": 2,
   "metadata": {},
   "outputs": [
    {
     "name": "stderr",
     "output_type": "stream",
     "text": [
      "2025-02-20 13:21:51,368 - nodes.VectorDBNode - INFO - Connected to Milvus at localhost:19530 successfully!\n",
      "2025-02-20 13:21:51,369 - nodes.DataParsingNode - INFO - Парсинг https://www.eurochem.ru/...\n",
      "2025-02-20 13:21:51,522 - nodes.DataParsingNode - INFO - Парсинг https://www.eurochem.ru/global-operations/...\n",
      "2025-02-20 13:21:51,667 - nodes.DataParsingNode - INFO - Парсинг https://www.eurochem.ru/about-us/komplaens/...\n",
      "2025-02-20 13:21:51,818 - nodes.DataParsingNode - INFO - Парсинг https://www.eurochem.ru/proteh-lab/...\n",
      "2025-02-20 13:21:52,071 - nodes.DataParsingNode - INFO - Парсинг https://digtp.com/...\n",
      "2025-02-20 13:21:52,223 - nodes.DataParsingNode - INFO - Парсинг https://digtp.com/projects/machine-learning-platforma...\n",
      "2025-02-20 13:21:52,326 - nodes.DataParsingNode - INFO - Парсинг https://digtp.com/projects/rekomendatelnye-modeli...\n",
      "2025-02-20 13:21:52,459 - nodes.DataParsingNode - INFO - Парсинг https://digtp.com/projects/mobilnoe-prilozenie-mineralogiia...\n",
      "2025-02-20 13:21:52,569 - nodes.DataParsingNode - INFO - Парсинг https://digtp.com/contacts...\n",
      "2025-02-20 13:21:52,690 - nodes.DataParsingNode - INFO - Парсинг https://www.eurochem-career.com/news/iskusstvennyi-intellekt-v-ximii-gpt-assistenty-v-evroxime...\n",
      "2025-02-20 13:21:52,975 - nodes.DataParsingNode - INFO - Парсинг https://otus.ru/instructors/10517...\n",
      "2025-02-20 13:21:58,852 - nodes.DataParsingNode - INFO - Парсинг https://ru.wikipedia.org/wiki/ЕвроХим...\n",
      "2025-02-20 13:21:59,125 - nodes.DataParsingNode - INFO - Парсинг https://www.eurochem.ru/usolskij-kalijnyj-kombinat/...\n",
      "2025-02-20 13:21:59,272 - nodes.DataParsingNode - INFO - Парсинг https://uralmines.ru/evrohim-usolskij-kalijnyj-kombinat/...\n",
      "2025-02-20 13:22:00,202 - nodes.DataParsingNode - INFO - Парсинг https://docs.ultralytics.com/tasks/segment...\n",
      "2025-02-20 13:22:00,918 - nodes.DataParsingNode - INFO - Парсинг https://docs.ultralytics.com/tasks/detect...\n",
      "2025-02-20 13:22:01,603 - nodes.DataParsingNode - INFO - Парсинг https://docs.ultralytics.com/tasks...\n",
      "2025-02-20 13:22:02,024 - nodes.DataParsingNode - INFO - Парсинг https://docs.ultralytics.com/modes/...\n",
      "2025-02-20 13:22:02,252 - nodes.DataParsingNode - INFO - Парсинг https://docs.ultralytics.com/solutions...\n",
      "2025-02-20 13:22:02,536 - nodes.DataParsingNode - INFO - Парсинг https://github.com/Koldim2001...\n",
      "2025-02-20 13:22:03,167 - nodes.DataParsingNode - INFO - Парсинг https://github.com/Koldim2001/YOLO-Patch-Based-Inference...\n",
      "2025-02-20 13:22:04,059 - nodes.DataParsingNode - INFO - Парсинг https://github.com/Koldim2001/TrafficAnalyzer...\n",
      "2025-02-20 13:22:08,119 - nodes.DataParsingNode - INFO - Парсинг https://github.com/Koldim2001/COCO_to_YOLOv8...\n",
      "2025-02-20 13:22:08,959 - nodes.EmbedderNode - INFO - Обработка батча 1, размер батча: 156\n"
     ]
    },
    {
     "name": "stdout",
     "output_type": "stream",
     "text": [
      "Чанки сохранены в файл results/chunks_output.txt\n",
      "Итоговый текст сохранен в файл results/output_parsing.txt\n",
      "DataElement(\n",
      "  Сollection db name: data\n",
      "  URLs: https://www.eurochem.ru/, https://www.eurochem.ru/global-operations/, https://www.eurochem.ru/about-us/komplaens/, https://www.eurochem.ru/proteh-lab/, https://digtp.com/, https://digtp.com/projects/machine-learning-platforma, https://digtp.com/projects/rekomendatelnye-modeli, https://digtp.com/projects/mobilnoe-prilozenie-mineralogiia, https://digtp.com/contacts, https://www.eurochem-career.com/news/iskusstvennyi-intellekt-v-ximii-gpt-assistenty-v-evroxime, https://otus.ru/instructors/10517, https://ru.wikipedia.org/wiki/ЕвроХим, https://www.eurochem.ru/usolskij-kalijnyj-kombinat/, https://uralmines.ru/evrohim-usolskij-kalijnyj-kombinat/, https://docs.ultralytics.com/tasks/segment, https://docs.ultralytics.com/tasks/detect, https://docs.ultralytics.com/tasks, https://docs.ultralytics.com/modes/, https://docs.ultralytics.com/solutions, https://github.com/Koldim2001, https://github.com/Koldim2001/YOLO-Patch-Based-Inference, https://github.com/Koldim2001/TrafficAnalyzer, https://github.com/Koldim2001/COCO_to_YOLOv8\n",
      "  URL Data: 23 entries\n",
      "  Chunks: 156 chunks\n",
      ")\n"
     ]
    },
    {
     "name": "stderr",
     "output_type": "stream",
     "text": [
      "2025-02-20 13:22:10,505 - nodes.VectorDBNode - INFO - Collection 'data' deleted successfully.\n",
      "2025-02-20 13:22:10,548 - nodes.VectorDBNode - INFO - Collection 'data' created successfully.\n",
      "2025-02-20 13:22:11,069 - nodes.VectorDBNode - INFO - Index created on field 'embedding' for collection 'data'.\n",
      "2025-02-20 13:22:11,722 - nodes.VectorDBNode - INFO - Collection 'data' loaded successfully.\n",
      "2025-02-20 13:22:11,888 - nodes.VectorDBNode - INFO - Inserted 156 records into collection 'data'.\n"
     ]
    }
   ],
   "source": [
    "from services.MakeDatasetRAG import MakeDatasetRAG\n",
    "\n",
    "mk = MakeDatasetRAG()\n",
    "\n",
    "url_list = [\n",
    "    \"https://www.eurochem.ru/\",\n",
    "    \"https://www.eurochem.ru/global-operations/\",\n",
    "    \"https://www.eurochem.ru/about-us/komplaens/\",\n",
    "    \"https://www.eurochem.ru/proteh-lab/\",\n",
    "    \"https://digtp.com/\",\n",
    "    \"https://digtp.com/projects/machine-learning-platforma\",\n",
    "    \"https://digtp.com/projects/rekomendatelnye-modeli\",\n",
    "    \"https://digtp.com/projects/mobilnoe-prilozenie-mineralogiia\",\n",
    "    \"https://digtp.com/contacts\",\n",
    "    \"https://www.eurochem-career.com/news/iskusstvennyi-intellekt-v-ximii-gpt-assistenty-v-evroxime\",\n",
    "    \"https://otus.ru/instructors/10517\",\n",
    "    \"https://ru.wikipedia.org/wiki/ЕвроХим\",\n",
    "    \"https://www.eurochem.ru/usolskij-kalijnyj-kombinat/\",\n",
    "    \"https://uralmines.ru/evrohim-usolskij-kalijnyj-kombinat/\",\n",
    "    \"https://docs.ultralytics.com/tasks/segment\",\n",
    "    \"https://docs.ultralytics.com/tasks/detect\",\n",
    "    \"https://docs.ultralytics.com/tasks\",\n",
    "    \"https://docs.ultralytics.com/modes/\",\n",
    "    \"https://docs.ultralytics.com/solutions\",\n",
    "    \"https://github.com/Koldim2001\",\n",
    "    \"https://github.com/Koldim2001/YOLO-Patch-Based-Inference\",\n",
    "    \"https://github.com/Koldim2001/TrafficAnalyzer\",\n",
    "    \"https://github.com/Koldim2001/COCO_to_YOLOv8\"\n",
    "]\n",
    "\n",
    "collection_db_name = \"data\"\n",
    "\n",
    "mk.process(url_list, collection_db_name, show_data_info=True)\n"
   ]
  },
  {
   "cell_type": "code",
   "execution_count": 2,
   "metadata": {},
   "outputs": [
    {
     "name": "stderr",
     "output_type": "stream",
     "text": [
      "2025-02-19 22:44:27,401 - nodes.VectorDBNode - INFO - First 5 records in collection 'data':\n",
      "2025-02-19 22:44:27,401 - nodes.VectorDBNode - INFO - ID: 456128336297722553, Text: [Источник: АО «Минерально-химическая компания Евро..., Length: 1023, Timestamp: 1739994261\n",
      "2025-02-19 22:44:27,402 - nodes.VectorDBNode - INFO - ID: 456128336297722554, Text: [Источник: Наши активы - добыча, производство, про..., Length: 1229, Timestamp: 1739994261\n",
      "2025-02-19 22:44:27,402 - nodes.VectorDBNode - INFO - ID: 456128336297722555, Text: [Источник: Наши активы - добыча, производство, про..., Length: 1226, Timestamp: 1739994261\n",
      "2025-02-19 22:44:27,403 - nodes.VectorDBNode - INFO - ID: 456128336297722556, Text: [Источник: Наши активы - добыча, производство, про..., Length: 678, Timestamp: 1739994261\n",
      "2025-02-19 22:44:27,403 - nodes.VectorDBNode - INFO - ID: 456128336297722557, Text: [Источник: Комплаенс]\n",
      "Свяжитесь с нами\n",
      "Удобрения и..., Length: 1204, Timestamp: 1739994261\n"
     ]
    }
   ],
   "source": [
    "mk.vector_db_node.display_first_n_records(collection_db_name)"
   ]
  },
  {
   "cell_type": "code",
   "execution_count": 3,
   "metadata": {},
   "outputs": [
    {
     "data": {
      "text/plain": [
       "156"
      ]
     },
     "execution_count": 3,
     "metadata": {},
     "output_type": "execute_result"
    }
   ],
   "source": [
    "mk.vector_db_node.get_total_records(collection_db_name)"
   ]
  },
  {
   "cell_type": "markdown",
   "metadata": {},
   "source": [
    "---"
   ]
  },
  {
   "cell_type": "markdown",
   "metadata": {},
   "source": [
    "# Общение с моделью:"
   ]
  },
  {
   "cell_type": "code",
   "execution_count": 1,
   "metadata": {},
   "outputs": [
    {
     "name": "stderr",
     "output_type": "stream",
     "text": [
      "2025-02-20 13:21:47,273 - nodes.VectorDBNode - INFO - Connected to Milvus at localhost:19530 successfully!\n"
     ]
    }
   ],
   "source": [
    "from services.AskLLM import AskLLM\n",
    "ask = AskLLM()"
   ]
  },
  {
   "cell_type": "code",
   "execution_count": 2,
   "metadata": {},
   "outputs": [],
   "source": [
    "query= \"что такое ультралитикс\"\n",
    "message_number=0\n",
    "collection_db_name=\"data\"\n",
    "previous_messages=[]\n",
    "show_data_info=False"
   ]
  },
  {
   "cell_type": "code",
   "execution_count": 3,
   "metadata": {},
   "outputs": [
    {
     "name": "stderr",
     "output_type": "stream",
     "text": [
      "2025-02-19 22:48:26,250 - nodes.EmbedderNode - INFO - Обработка батча 1, размер батча: 1\n",
      "2025-02-19 22:48:27,114 - root - INFO - Размер запроса: 6533 символов, 1767 токенов\n",
      "2025-02-19 22:48:37,829 - httpx - INFO - HTTP Request: POST http://localhost:8071/v1/chat/completions \"HTTP/1.1 200 OK\"\n"
     ]
    }
   ],
   "source": [
    "res = ask.process(query, message_number, collection_db_name, previous_messages, show_data_info)"
   ]
  },
  {
   "cell_type": "code",
   "execution_count": 4,
   "metadata": {},
   "outputs": [
    {
     "name": "stdout",
     "output_type": "stream",
     "text": [
      "Ультралитикс (Ultralytics) — это компания, которая разрабатывает и поддерживает YOLO (You Only Look Once) — популярную серию алгоритмов для обнаружения объектов в изображениях и видео. YOLO позволяет быстро и эффективно обнаруживать объекты с высокой точностью.\n",
      "\n",
      "Основные аспекты YOLO и Ultralytics:\n",
      "\n",
      "1. **Обнаружение объектов**: YOLO использует один слой нейронной сети для обнаружения объектов в изображении, что делает его очень быстрым и эффективным.\n",
      "\n",
      "2. **Форматы экспорта**: Ultralytics предоставляет инструменты для экспорта YOLO моделей в различные форматы, такие как ONNX, TensorRT и OpenVINO, что позволяет использовать модели на различных устройствах и платформах.\n",
      "\n",
      "3. **Бенчмаркинг**: Ультралитикс предлагает инструменты для бенчмаркинга моделей, что помогает оценить производительность и эффективность различных форматов и на разных устройствах.\n",
      "\n",
      "4. **Реальное время**: YOLO может использоваться для реального времени обнаружения объектов, что делает его полезным для таких задач, как объектный счёт, трекинг объектов, защита конфиденциальности и т.д.\n",
      "\n",
      "5. **Сегментация объектов**: Ультралитикс также предлагает YOLO для сегментации объектов, что позволяет точно выделить объекты из изображений и видео.\n",
      "\n",
      "6. **Обучение и валидация**: Ультралитикс предоставляет инструменты для обучения и валидации моделей YOLO, включая возможность использования предобученных моделей и трансферного обучения.\n",
      "\n",
      "7. **Документация и примеры**: Ультралитикс предлагает подробную документацию и примеры использования YOLO, что помогает новичкам и опытным разработчикам быстро начать работу с этими алгоритмами.\n",
      "\n",
      "Таким образом, Ультралитикс предоставляет мощные инструменты для обнаружения и сегментации объектов, а также инструменты для их оптимизации и использования в различных приложениях.\n"
     ]
    }
   ],
   "source": [
    "print(res.answer)"
   ]
  },
  {
   "cell_type": "markdown",
   "metadata": {},
   "source": [
    "---"
   ]
  },
  {
   "cell_type": "markdown",
   "metadata": {},
   "source": [
    "# Работа с историей чата"
   ]
  },
  {
   "cell_type": "code",
   "execution_count": 14,
   "metadata": {},
   "outputs": [
    {
     "name": "stdout",
     "output_type": "stream",
     "text": [
      "[HumanMessage(content='что такое ультралитикс', additional_kwargs={}, response_metadata={}), AIMessage(content='Ультралитикс (Ultralytics) — это компания, которая разрабатывает и поддерживает YOLO (You Only Look Once) — популярную серию алгоритмов для обнаружения объектов в изображениях и видео. YOLO позволяет быстро и эффективно обнаруживать объекты с высокой точностью.\\n\\nОсновные аспекты YOLO и Ultralytics:\\n\\n1. **Обнаружение объектов**: YOLO использует один слой нейронной сети для обнаружения объектов в изображении, что делает его очень быстрым и эффективным.\\n\\n2. **Форматы экспорта**: Ultralytics предоставляет инструменты для экспорта YOLO моделей в различные форматы, такие как ONNX, TensorRT и OpenVINO, что позволяет использовать модели на различных устройствах и платформах.\\n\\n3. **Бенчмаркинг**: Ультралитикс предлагает инструменты для бенчмаркинга моделей, что помогает оценить производительность и эффективность различных форматов и на разных устройствах.\\n\\n4. **Реальное время**: YOLO может использоваться для реального времени обнаружения объектов, что делает его полезным для таких задач, как объектный счёт, трекинг объектов, защита конфиденциальности и т.д.\\n\\n5. **Сегментация объектов**: Ультралитикс также предлагает YOLO для сегментации объектов, что позволяет точно выделить объекты из изображений и видео.\\n\\n6. **Обучение и валидация**: Ультралитикс предоставляет инструменты для обучения и валидации моделей YOLO, включая возможность использования предобученных моделей и трансферного обучения.\\n\\n7. **Документация и примеры**: Ультралитикс предлагает подробную документацию и примеры использования YOLO, что помогает новичкам и опытным разработчикам быстро начать работу с этими алгоритмами.\\n\\nТаким образом, Ультралитикс предоставляет мощные инструменты для обнаружения и сегментации объектов, а также инструменты для их оптимизации и использования в различных приложениях.', additional_kwargs={}, response_metadata={})]\n"
     ]
    }
   ],
   "source": [
    "previous_messages = ask.get_new_history(res)\n",
    "print(previous_messages)"
   ]
  },
  {
   "cell_type": "code",
   "execution_count": 15,
   "metadata": {},
   "outputs": [
    {
     "data": {
      "text/plain": [
       "2"
      ]
     },
     "execution_count": 15,
     "metadata": {},
     "output_type": "execute_result"
    }
   ],
   "source": [
    "len(previous_messages)"
   ]
  },
  {
   "cell_type": "code",
   "execution_count": 16,
   "metadata": {},
   "outputs": [],
   "source": [
    "query= \"напиши в одно предложение\"\n",
    "message_number=1\n",
    "collection_db_name=\"data\"\n",
    "show_data_info=False"
   ]
  },
  {
   "cell_type": "code",
   "execution_count": 17,
   "metadata": {},
   "outputs": [
    {
     "name": "stderr",
     "output_type": "stream",
     "text": [
      "2025-02-19 22:49:01,715 - httpx - INFO - HTTP Request: POST http://localhost:8071/v1/chat/completions \"HTTP/1.1 200 OK\"\n",
      "2025-02-19 22:49:01,717 - nodes.LLMNode - INFO - Измененный текст сообщения для получения эмеддингов: Пожалуйста, напиши одно предложение, которое описывает ультралитикс и его алгоритмы обнаружения объектов.\n",
      "2025-02-19 22:49:01,718 - nodes.EmbedderNode - INFO - Обработка батча 1, размер батча: 1\n",
      "2025-02-19 22:49:02,040 - root - INFO - Размер запроса: 8410 символов, 2038 токенов\n",
      "2025-02-19 22:49:05,198 - httpx - INFO - HTTP Request: POST http://localhost:8071/v1/chat/completions \"HTTP/1.1 200 OK\"\n"
     ]
    }
   ],
   "source": [
    "res = ask.process(query, message_number, collection_db_name, previous_messages, show_data_info)"
   ]
  },
  {
   "cell_type": "code",
   "execution_count": 18,
   "metadata": {},
   "outputs": [
    {
     "name": "stdout",
     "output_type": "stream",
     "text": [
      "Ультралитикс YOLO11 может использоваться для реального времени обнаружения объектов, что позволяет точно считывать объекты в живых видео потоках, создавать системы безопасности с тревожными алармами при обнаружении новых объектов, улучшать системы управления очередями путем точного счёта и трекинга людей, а также для мониторинга тренировок с высокой точностью и скоростью.\n"
     ]
    }
   ],
   "source": [
    "print(res.answer)"
   ]
  },
  {
   "cell_type": "markdown",
   "metadata": {},
   "source": [
    "Было:"
   ]
  },
  {
   "cell_type": "code",
   "execution_count": 19,
   "metadata": {},
   "outputs": [
    {
     "data": {
      "text/plain": [
       "'напиши в одно предложение'"
      ]
     },
     "execution_count": 19,
     "metadata": {},
     "output_type": "execute_result"
    }
   ],
   "source": [
    "res.query"
   ]
  },
  {
   "cell_type": "markdown",
   "metadata": {},
   "source": [
    "Стало:"
   ]
  },
  {
   "cell_type": "code",
   "execution_count": 20,
   "metadata": {},
   "outputs": [
    {
     "data": {
      "text/plain": [
       "'Пожалуйста, напиши одно предложение, которое описывает ультралитикс и его алгоритмы обнаружения объектов.'"
      ]
     },
     "execution_count": 20,
     "metadata": {},
     "output_type": "execute_result"
    }
   ],
   "source": [
    "res.upgraded_query"
   ]
  },
  {
   "cell_type": "markdown",
   "metadata": {},
   "source": [
    "Как посчитать число токенов:"
   ]
  },
  {
   "cell_type": "code",
   "execution_count": null,
   "metadata": {},
   "outputs": [
    {
     "data": {
      "text/plain": [
       "5"
      ]
     },
     "execution_count": 3,
     "metadata": {},
     "output_type": "execute_result"
    }
   ],
   "source": [
    "ask.llm_node.count_tokens(\"Привет всем!\")"
   ]
  },
  {
   "cell_type": "code",
   "execution_count": 8,
   "metadata": {},
   "outputs": [
    {
     "data": {
      "text/plain": [
       "True"
      ]
     },
     "execution_count": 8,
     "metadata": {},
     "output_type": "execute_result"
    }
   ],
   "source": [
    "ask.llm_node.health_check()"
   ]
  },
  {
   "cell_type": "markdown",
   "metadata": {},
   "source": [
    "---"
   ]
  }
 ],
 "metadata": {
  "kernelspec": {
   "display_name": "MAIN",
   "language": "python",
   "name": "python3"
  },
  "language_info": {
   "codemirror_mode": {
    "name": "ipython",
    "version": 3
   },
   "file_extension": ".py",
   "mimetype": "text/x-python",
   "name": "python",
   "nbconvert_exporter": "python",
   "pygments_lexer": "ipython3",
   "version": "3.11.10"
  }
 },
 "nbformat": 4,
 "nbformat_minor": 2
}
