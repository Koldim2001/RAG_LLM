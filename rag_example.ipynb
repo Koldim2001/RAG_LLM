{
 "cells": [
  {
   "cell_type": "markdown",
   "metadata": {},
   "source": [
    "# RAG примеры"
   ]
  },
  {
   "cell_type": "markdown",
   "metadata": {},
   "source": [
    "---"
   ]
  },
  {
   "cell_type": "code",
   "execution_count": 13,
   "metadata": {},
   "outputs": [
    {
     "name": "stderr",
     "output_type": "stream",
     "text": [
      "2025-02-19 14:38:54,707 - nodes.VectorDBNode - INFO - Connected to Milvus at localhost:19530 successfully!\n",
      "2025-02-19 14:38:54,708 - nodes.DataParsingNode - INFO - Парсинг https://www.eurochem.ru/...\n",
      "2025-02-19 14:38:54,871 - nodes.DataParsingNode - INFO - Парсинг https://www.eurochem.ru/global-operations/...\n",
      "2025-02-19 14:38:55,068 - nodes.DataParsingNode - INFO - Парсинг https://www.eurochem.ru/about-us/komplaens/...\n",
      "2025-02-19 14:38:55,266 - nodes.DataParsingNode - INFO - Парсинг https://www.eurochem.ru/proteh-lab/...\n",
      "2025-02-19 14:38:55,461 - nodes.DataParsingNode - INFO - Парсинг https://digtp.com/...\n",
      "2025-02-19 14:38:55,591 - nodes.DataParsingNode - INFO - Парсинг https://digtp.com/projects/machine-learning-platforma...\n",
      "2025-02-19 14:38:55,705 - nodes.DataParsingNode - INFO - Парсинг https://digtp.com/projects/rekomendatelnye-modeli...\n",
      "2025-02-19 14:38:55,834 - nodes.DataParsingNode - INFO - Парсинг https://digtp.com/projects/mobilnoe-prilozenie-mineralogiia...\n",
      "2025-02-19 14:38:56,061 - nodes.DataParsingNode - INFO - Парсинг https://digtp.com/contacts...\n",
      "2025-02-19 14:38:56,211 - nodes.DataParsingNode - INFO - Парсинг https://www.eurochem-career.com/news/iskusstvennyi-intellekt-v-ximii-gpt-assistenty-v-evroxime...\n",
      "2025-02-19 14:38:56,430 - nodes.DataParsingNode - INFO - Парсинг https://otus.ru/instructors/10517...\n",
      "2025-02-19 14:38:59,478 - nodes.DataParsingNode - INFO - Парсинг https://ru.wikipedia.org/wiki/ЕвроХим...\n",
      "2025-02-19 14:38:59,739 - nodes.DataParsingNode - INFO - Парсинг https://www.eurochem.ru/usolskij-kalijnyj-kombinat/...\n",
      "2025-02-19 14:38:59,965 - nodes.DataParsingNode - INFO - Парсинг https://uralmines.ru/evrohim-usolskij-kalijnyj-kombinat/...\n",
      "2025-02-19 14:39:00,876 - nodes.DataParsingNode - INFO - Парсинг https://docs.ultralytics.com/tasks/segment...\n",
      "2025-02-19 14:39:01,613 - nodes.DataParsingNode - INFO - Парсинг https://docs.ultralytics.com/tasks/detect...\n",
      "2025-02-19 14:39:02,287 - nodes.DataParsingNode - INFO - Парсинг https://docs.ultralytics.com/tasks...\n",
      "2025-02-19 14:39:02,706 - nodes.DataParsingNode - INFO - Парсинг https://docs.ultralytics.com/modes/...\n",
      "2025-02-19 14:39:03,146 - nodes.DataParsingNode - INFO - Парсинг https://docs.ultralytics.com/solutions...\n",
      "2025-02-19 14:39:03,484 - nodes.DataParsingNode - INFO - Парсинг https://github.com/Koldim2001...\n",
      "2025-02-19 14:39:04,125 - nodes.DataParsingNode - INFO - Парсинг https://github.com/Koldim2001/YOLO-Patch-Based-Inference...\n",
      "2025-02-19 14:39:04,850 - nodes.DataParsingNode - INFO - Парсинг https://github.com/Koldim2001/TrafficAnalyzer...\n",
      "2025-02-19 14:39:05,798 - nodes.DataParsingNode - INFO - Парсинг https://github.com/Koldim2001/COCO_to_YOLOv8...\n",
      "2025-02-19 14:39:06,616 - nodes.EmbedderNode - INFO - Обработка батча 1, размер батча: 156\n"
     ]
    },
    {
     "name": "stdout",
     "output_type": "stream",
     "text": [
      "Чанки сохранены в файл results/chunks_output.txt\n",
      "Итоговый текст сохранен в файл results/output_parsing.txt\n",
      "DataElement(\n",
      "  Сollection db name: data\n",
      "  URLs: https://www.eurochem.ru/, https://www.eurochem.ru/global-operations/, https://www.eurochem.ru/about-us/komplaens/, https://www.eurochem.ru/proteh-lab/, https://digtp.com/, https://digtp.com/projects/machine-learning-platforma, https://digtp.com/projects/rekomendatelnye-modeli, https://digtp.com/projects/mobilnoe-prilozenie-mineralogiia, https://digtp.com/contacts, https://www.eurochem-career.com/news/iskusstvennyi-intellekt-v-ximii-gpt-assistenty-v-evroxime, https://otus.ru/instructors/10517, https://ru.wikipedia.org/wiki/ЕвроХим, https://www.eurochem.ru/usolskij-kalijnyj-kombinat/, https://uralmines.ru/evrohim-usolskij-kalijnyj-kombinat/, https://docs.ultralytics.com/tasks/segment, https://docs.ultralytics.com/tasks/detect, https://docs.ultralytics.com/tasks, https://docs.ultralytics.com/modes/, https://docs.ultralytics.com/solutions, https://github.com/Koldim2001, https://github.com/Koldim2001/YOLO-Patch-Based-Inference, https://github.com/Koldim2001/TrafficAnalyzer, https://github.com/Koldim2001/COCO_to_YOLOv8\n",
      "  URL Data: 23 entries\n",
      "  Chunks: 156 chunks\n",
      ")\n"
     ]
    },
    {
     "name": "stderr",
     "output_type": "stream",
     "text": [
      "2025-02-19 14:39:07,949 - nodes.VectorDBNode - INFO - Collection 'data' deleted successfully.\n",
      "2025-02-19 14:39:07,992 - nodes.VectorDBNode - INFO - Collection 'data' created successfully.\n",
      "2025-02-19 14:39:08,511 - nodes.VectorDBNode - INFO - Index created on field 'embedding' for collection 'data'.\n",
      "2025-02-19 14:39:09,560 - nodes.VectorDBNode - INFO - Collection 'data' loaded successfully.\n",
      "2025-02-19 14:39:09,621 - nodes.VectorDBNode - INFO - Inserted 156 records into collection 'data'.\n"
     ]
    }
   ],
   "source": [
    "from services.MakeDatasetRAG import MakeDatasetRAG\n",
    "\n",
    "mk = MakeDatasetRAG()\n",
    "\n",
    "url_list = [\n",
    "    \"https://www.eurochem.ru/\",\n",
    "    \"https://www.eurochem.ru/global-operations/\",\n",
    "    \"https://www.eurochem.ru/about-us/komplaens/\",\n",
    "    \"https://www.eurochem.ru/proteh-lab/\",\n",
    "    \"https://digtp.com/\",\n",
    "    \"https://digtp.com/projects/machine-learning-platforma\",\n",
    "    \"https://digtp.com/projects/rekomendatelnye-modeli\",\n",
    "    \"https://digtp.com/projects/mobilnoe-prilozenie-mineralogiia\",\n",
    "    \"https://digtp.com/contacts\",\n",
    "    \"https://www.eurochem-career.com/news/iskusstvennyi-intellekt-v-ximii-gpt-assistenty-v-evroxime\",\n",
    "    \"https://otus.ru/instructors/10517\",\n",
    "    \"https://ru.wikipedia.org/wiki/ЕвроХим\",\n",
    "    \"https://www.eurochem.ru/usolskij-kalijnyj-kombinat/\",\n",
    "    \"https://uralmines.ru/evrohim-usolskij-kalijnyj-kombinat/\",\n",
    "    \"https://docs.ultralytics.com/tasks/segment\",\n",
    "    \"https://docs.ultralytics.com/tasks/detect\",\n",
    "    \"https://docs.ultralytics.com/tasks\",\n",
    "    \"https://docs.ultralytics.com/modes/\",\n",
    "    \"https://docs.ultralytics.com/solutions\",\n",
    "    \"https://github.com/Koldim2001\",\n",
    "    \"https://github.com/Koldim2001/YOLO-Patch-Based-Inference\",\n",
    "    \"https://github.com/Koldim2001/TrafficAnalyzer\",\n",
    "    \"https://github.com/Koldim2001/COCO_to_YOLOv8\"\n",
    "]\n",
    "\n",
    "collection_db_name = \"data\"\n",
    "\n",
    "mk.process(url_list, collection_db_name, show_data_info=True)\n"
   ]
  },
  {
   "cell_type": "code",
   "execution_count": 14,
   "metadata": {},
   "outputs": [
    {
     "name": "stderr",
     "output_type": "stream",
     "text": [
      "2025-02-19 14:41:04,636 - nodes.VectorDBNode - INFO - First 5 records in collection 'data':\n",
      "2025-02-19 14:41:04,636 - nodes.VectorDBNode - INFO - ID: 456119300212324095, Text: [Источник: АО «Минерально-химическая компания Евро..., Length: 1023, Timestamp: 1739965149\n",
      "2025-02-19 14:41:04,636 - nodes.VectorDBNode - INFO - ID: 456119300212324096, Text: [Источник: Наши активы - добыча, производство, про..., Length: 1229, Timestamp: 1739965149\n",
      "2025-02-19 14:41:04,637 - nodes.VectorDBNode - INFO - ID: 456119300212324097, Text: [Источник: Наши активы - добыча, производство, про..., Length: 1226, Timestamp: 1739965149\n",
      "2025-02-19 14:41:04,637 - nodes.VectorDBNode - INFO - ID: 456119300212324098, Text: [Источник: Наши активы - добыча, производство, про..., Length: 678, Timestamp: 1739965149\n",
      "2025-02-19 14:41:04,637 - nodes.VectorDBNode - INFO - ID: 456119300212324099, Text: [Источник: Комплаенс]\n",
      "Свяжитесь с нами\n",
      "Удобрения и..., Length: 1204, Timestamp: 1739965149\n"
     ]
    }
   ],
   "source": [
    "mk.vector_db_node.display_first_n_records(collection_db_name)"
   ]
  },
  {
   "cell_type": "code",
   "execution_count": 15,
   "metadata": {},
   "outputs": [
    {
     "data": {
      "text/plain": [
       "156"
      ]
     },
     "execution_count": 15,
     "metadata": {},
     "output_type": "execute_result"
    }
   ],
   "source": [
    "mk.vector_db_node.get_total_records(collection_db_name)"
   ]
  },
  {
   "cell_type": "markdown",
   "metadata": {},
   "source": [
    "---"
   ]
  },
  {
   "cell_type": "code",
   "execution_count": 16,
   "metadata": {},
   "outputs": [
    {
     "name": "stderr",
     "output_type": "stream",
     "text": [
      "2025-02-19 14:49:07,215 - nodes.VectorDBNode - INFO - Connected to Milvus at localhost:19530 successfully!\n"
     ]
    }
   ],
   "source": [
    "from services.AskLLM import AskLLM\n",
    "ask = AskLLM()"
   ]
  },
  {
   "cell_type": "code",
   "execution_count": 35,
   "metadata": {},
   "outputs": [],
   "source": [
    "query= \"что такое YOLO\"\n",
    "message_number=0\n",
    "collection_db_name=\"data\"\n",
    "previous_messages=[]\n",
    "show_data_info=True"
   ]
  },
  {
   "cell_type": "code",
   "execution_count": 36,
   "metadata": {},
   "outputs": [
    {
     "name": "stderr",
     "output_type": "stream",
     "text": [
      "2025-02-19 14:58:12,691 - nodes.EmbedderNode - INFO - Обработка батча 1, размер батча: 1\n"
     ]
    },
    {
     "name": "stdout",
     "output_type": "stream",
     "text": [
      "Результат векторного поиска:\n",
      "Chunk 1: [Источник: Detect - Ultralytics YOLO Docs]\n",
      "yolo detect val model = yolo11n.pt # val official model yolo detect val model = path/to/best.pt # val custom model\n",
      "Use a trained YOLO11n model to run predict..., \n",
      "metadata={'source': 'chunk_0', 'distance': 0.853314, 'chunk_length': 1263}\n",
      "\n",
      "Chunk 2: [Источник: Segment - Ultralytics YOLO Docs]\n",
      "from ultralytics import YOLO # Load a model model = YOLO ( \"yolo11n-seg.yaml\" ) # build a new model from YAML model = YOLO ( \"yolo11n-seg.pt\" ) # load a pre..., \n",
      "metadata={'source': 'chunk_1', 'distance': 0.846819, 'chunk_length': 1259}\n",
      "\n",
      "Chunk 3: [Источник: Detect - Ultralytics YOLO Docs]\n",
      "# Build a new model from YAML and start training from scratch yolo detect train data = coco8.yaml model = yolo11n.yaml epochs = 100 imgsz = 640 # Start train..., \n",
      "metadata={'source': 'chunk_2', 'distance': 0.841616, 'chunk_length': 1234}\n",
      "\n",
      "Chunk 4: [Источник: Segment - Ultralytics YOLO Docs]\n",
      "from ultralytics import YOLO # Load a model model = YOLO ( \"yolo11n-seg.pt\" ) # load an official model model = YOLO ( \"path/to/best.pt\" ) # load a custom mo..., \n",
      "metadata={'source': 'chunk_3', 'distance': 0.841316, 'chunk_length': 823}\n",
      "\n",
      "Chunk 5: [Источник: GitHub - Koldim2001/YOLO-Patch-Based-Inference: Python library for YOLO small object detection and instance segmentation]\n",
      "classes_names: These are the human-readable names corresponding to ..., \n",
      "metadata={'source': 'chunk_4', 'distance': 0.839299, 'chunk_length': 1362}\n",
      "\n",
      "Chunk 6: [Источник: Detect - Ultralytics YOLO Docs]\n",
      "YOLO11 Detect models are the default YOLO11 models, i.e.\n",
      "and are pretrained on\n",
      "YOLO11 pretrained Detect models are shown here. Detect, Segment and Pose model..., \n",
      "metadata={'source': 'chunk_5', 'distance': 0.83562, 'chunk_length': 1128}\n",
      "\n",
      "Chunk 7: [Источник: GitHub - Koldim2001/COCO_to_YOLOv8: Converting COCO annotation (CVAT) to annotation for YOLO-seg (instance segmentation) and YOLO-obb (oriented bounding box detection)]\n",
      "--coco_dataset TEXT ..., \n",
      "metadata={'source': 'chunk_6', 'distance': 0.834667, 'chunk_length': 1154}\n",
      "\n",
      "Chunk 8: [Источник: Segment - Ultralytics YOLO Docs]\n",
      "from ultralytics import YOLO # Load a model model = YOLO ( \"yolo11n-seg.pt\" ) # load an official model model = YOLO ( \"path/to/best.pt\" ) # load a custom mo..., \n",
      "metadata={'source': 'chunk_7', 'distance': 0.83358, 'chunk_length': 1237}\n",
      "\n",
      "Chunk 9: [Источник: GitHub - Koldim2001/COCO_to_YOLOv8: Converting COCO annotation (CVAT) to annotation for YOLO-seg (instance segmentation) and YOLO-obb (oriented bounding box detection)]\n",
      "Ключевое применение ..., \n",
      "metadata={'source': 'chunk_8', 'distance': 0.832173, 'chunk_length': 1415}\n",
      "\n",
      "Chunk 10: [Источник: GitHub - Koldim2001/COCO_to_YOLOv8: Converting COCO annotation (CVAT) to annotation for YOLO-seg (instance segmentation) and YOLO-obb (oriented bounding box detection)]\n",
      "How to run the code:..., \n",
      "metadata={'source': 'chunk_9', 'distance': 0.824178, 'chunk_length': 1407}\n",
      "\n",
      "Chunk 11: [Источник: GitHub - Koldim2001/YOLO-Patch-Based-Inference: Python library for YOLO small object detection and instance segmentation]\n",
      "IoU threshold for non-maximum suppression YOLO of single  crop.\n",
      "Lis..., \n",
      "metadata={'source': 'chunk_10', 'distance': 0.823422, 'chunk_length': 1292}\n",
      "\n",
      "Chunk 12: [Источник: GitHub - Koldim2001/YOLO-Patch-Based-Inference: Python library for YOLO small object detection and instance segmentation]\n",
      "The type of analysis to perform. Can be \"resolution_based\" for Reso..., \n",
      "metadata={'source': 'chunk_11', 'distance': 0.822136, 'chunk_length': 1082}\n",
      "\n",
      "Chunk 13: [Источник: Ultralytics YOLO11 Modes - Ultralytics YOLO Docs]\n",
      "# Export a YOLO model to ONNX format from the command line yolo export model = yolo11n.pt format = onnx\n",
      "Detailed steps for each export form..., \n",
      "metadata={'source': 'chunk_12', 'distance': 0.820331, 'chunk_length': 1168}\n",
      "\n",
      "Chunk 14: [Источник: GitHub - Koldim2001/YOLO-Patch-Based-Inference: Python library for YOLO small object detection and instance segmentation]\n",
      "GitHub - Koldim2001/YOLO-Patch-Based-Inference: Python library for ..., \n",
      "metadata={'source': 'chunk_13', 'distance': 0.819961, 'chunk_length': 1209}\n",
      "\n",
      "Chunk 15: [Источник: Ultralytics Solutions: Harness YOLO11 to Solve Real-World Problems - Ultralytics YOLO Docs]\n",
      "🚀: Estimate object speed using YOLO11 and object tracking techniques, crucial for applications li..., \n",
      "metadata={'source': 'chunk_14', 'distance': 0.819536, 'chunk_length': 1255}\n",
      "\n",
      "Chunk 16: [Источник: Detect - Ultralytics YOLO Docs]\n",
      "from ultralytics import YOLO # Load a pretrained model model = YOLO ( \"yolo11n.pt\" ) # Train the model on your custom dataset model . train ( data = \"my_cust..., \n",
      "metadata={'source': 'chunk_15', 'distance': 0.818949, 'chunk_length': 1260}\n",
      "\n",
      "Chunk 17: [Источник: GitHub - Koldim2001/YOLO-Patch-Based-Inference: Python library for YOLO small object detection and instance segmentation]\n",
      "Whether to show bounding boxes.\n",
      "Whether to show class labels.\n",
      "Wheth..., \n",
      "metadata={'source': 'chunk_16', 'distance': 0.81842, 'chunk_length': 1197}\n",
      "\n",
      "Chunk 18: [Источник: Detect - Ultralytics YOLO Docs]\n",
      "from ultralytics import YOLO # Load a model model = YOLO ( \"yolo11n.pt\" ) # load an official model model = YOLO ( \"path/to/best.pt\" ) # load a custom trained..., \n",
      "metadata={'source': 'chunk_17', 'distance': 0.818067, 'chunk_length': 1109}\n",
      "\n",
      "Chunk 19: [Источник: GitHub - Koldim2001/YOLO-Patch-Based-Inference: Python library for YOLO small object detection and instance segmentation]\n",
      "from patched_yolo_infer import visualize_results # Assuming result ..., \n",
      "metadata={'source': 'chunk_18', 'distance': 0.817253, 'chunk_length': 1326}\n",
      "\n",
      "Chunk 20: [Источник: GitHub - Koldim2001/COCO_to_YOLOv8: Converting COCO annotation (CVAT) to annotation for YOLO-seg (instance segmentation) and YOLO-obb (oriented bounding box detection)]\n",
      "GitHub - Koldim2001/..., \n",
      "metadata={'source': 'chunk_19', 'distance': 0.815965, 'chunk_length': 1418}\n",
      "\n",
      "Chunk 21: [Источник: Ultralytics YOLO11 Modes - Ultralytics YOLO Docs]\n",
      "mAP (mean Average Precision)\n",
      ": This evaluates the accuracy of object detection.\n",
      "IOU (Intersection over Union)\n",
      ": Measures the overlap betwee..., \n",
      "metadata={'source': 'chunk_20', 'distance': 0.815706, 'chunk_length': 1238}\n",
      "\n",
      "Chunk 22: [Источник: Koldim2001 (Dmitry Kolesnikov) · GitHub]\n",
      "Koldim2001 (Dmitry Kolesnikov) · GitHub\n",
      "Block or report Koldim2001\n",
      "Learn more about\n",
      "Add an optional note:\n",
      "Please don't include any personal informat..., \n",
      "metadata={'source': 'chunk_21', 'distance': 0.815049, 'chunk_length': 1277}\n",
      "\n",
      "Chunk 23: [Источник: ЦТиП: Machine learning-платформа]\n",
      "свидетельство № АО-20211230-3269820362-3 от 10.01.2022, \n",
      "metadata={'source': 'chunk_22', 'distance': 0.814447, 'chunk_length': 99}\n",
      "\n",
      "Chunk 24: [Источник: Ultralytics Solutions: Harness YOLO11 to Solve Real-World Problems - Ultralytics YOLO Docs]\n",
      "yolo solutions count show = True # for object counting yolo solutions source = \"path/to/video/fil..., \n",
      "metadata={'source': 'chunk_23', 'distance': 0.814027, 'chunk_length': 1305}\n",
      "\n",
      "Chunk 25: [Источник: Computer Vision Tasks supported by Ultralytics YOLO11 - Ultralytics YOLO Docs]\n",
      "Train the YOLO11 model using the detection task.\n",
      "Use the model to make predictions by feeding in new images or..., \n",
      "metadata={'source': 'chunk_24', 'distance': 0.813332, 'chunk_length': 1312}\n",
      "\n",
      "\n",
      "=======================\n",
      "\n",
      "Результат после реранка:\n",
      "Chunk 1: [Источник: GitHub - Koldim2001/YOLO-Patch-Based-Inference: Python library for YOLO small object detection and instance segmentation]\n",
      "The type of analysis to perform. Can be \"resolution_based\" for Reso..., \n",
      "metadata={'source': 'chunk_11', 'distance': 0.822136, 'chunk_length': 1082, 'score_rerank': 0.61335236}\n",
      "\n",
      "Chunk 2: [Источник: Detect - Ultralytics YOLO Docs]\n",
      "from ultralytics import YOLO # Load a pretrained model model = YOLO ( \"yolo11n.pt\" ) # Train the model on your custom dataset model . train ( data = \"my_cust..., \n",
      "metadata={'source': 'chunk_15', 'distance': 0.818949, 'chunk_length': 1260, 'score_rerank': 0.51208264}\n",
      "\n",
      "Chunk 3: [Источник: Computer Vision Tasks supported by Ultralytics YOLO11 - Ultralytics YOLO Docs]\n",
      "Train the YOLO11 model using the detection task.\n",
      "Use the model to make predictions by feeding in new images or..., \n",
      "metadata={'source': 'chunk_24', 'distance': 0.813332, 'chunk_length': 1312, 'score_rerank': 0.48782587}\n",
      "\n",
      "Chunk 4: [Источник: Ultralytics Solutions: Harness YOLO11 to Solve Real-World Problems - Ultralytics YOLO Docs]\n",
      "🚀: Estimate object speed using YOLO11 and object tracking techniques, crucial for applications li..., \n",
      "metadata={'source': 'chunk_14', 'distance': 0.819536, 'chunk_length': 1255, 'score_rerank': 0.44628355}\n",
      "\n",
      "Chunk 5: [Источник: GitHub - Koldim2001/YOLO-Patch-Based-Inference: Python library for YOLO small object detection and instance segmentation]\n",
      "classes_names: These are the human-readable names corresponding to ..., \n",
      "metadata={'source': 'chunk_4', 'distance': 0.839299, 'chunk_length': 1362, 'score_rerank': 0.40574303}\n",
      "\n",
      "\n",
      "=======================\n",
      "\n"
     ]
    },
    {
     "name": "stderr",
     "output_type": "stream",
     "text": [
      "2025-02-19 14:58:29,591 - httpx - INFO - HTTP Request: POST http://localhost:8071/v1/chat/completions \"HTTP/1.1 200 OK\"\n"
     ]
    },
    {
     "name": "stdout",
     "output_type": "stream",
     "text": [
      "Итоговый промпт, подаваемый на вход модели:\n",
      "\n",
      "system: Вы полезный помощник, который отвечает на вопросы на русском языке. Ваши ответы должны быть четкими, информативными и полезными.\n",
      "human: Учитывай информацию из этих отрывков текста если считаешь нужным:\n",
      "1. [Источник: GitHub - Koldim2001/YOLO-Patch-Based-Inference: Python library for YOLO small object detection and instance segmentation]\n",
      "The type of analysis to perform. Can be \"resolution_based\" for Resolution-Based Analysis or \"network_based\" for Neural Network-Based Analysis.\n",
      "Pre-initialized model object for \"network_based\" mode. If not provided, the default YOLO11m model will be used.\n",
      "A list of class indices to consider for object detection in \"network_based\" mode. If None, all classes will be considered.\n",
      "The confidence threshold for detection in \"network_based\" mode.\n",
      "Example of using:\n",
      "import cv2 from ultralytics import YOLO from patched_yolo_infer import auto_calculate_crop_values # Load the image img_path = \"test_image.jpg\" img = cv2 . imread ( img_path ) # Calculate the optimal crop size and overlap for an image shape_x , shape_y , overlap_x , overlap_y = auto_calculate_crop_values ( image = img , mode = \"network_based\" , model = YOLO ( \"yolo11m.pt\" )\n",
      "An example of working with\n",
      "is presented in Google Colab notebook -\n",
      "Implementing Patching at Different Resolutions\n",
      "2. [Источник: Detect - Ultralytics YOLO Docs]\n",
      "from ultralytics import YOLO # Load a pretrained model model = YOLO ( \"yolo11n.pt\" ) # Train the model on your custom dataset model . train ( data = \"my_custom_dataset.yaml\" , epochs = 100 , imgsz = 640 )\n",
      "yolo detect train data = my_custom_dataset.yaml model = yolo11n.pt epochs = 100 imgsz = 640\n",
      "For detailed configuration options, visit the\n",
      "What pretrained models are available in YOLO11?\n",
      "Ultralytics YOLO11 offers various pretrained models for object detection, segmentation, and pose estimation. These models are pretrained on the COCO dataset or ImageNet for classification tasks. Here are some of the available models:\n",
      "For a detailed list and performance metrics, refer to the\n",
      "How can I validate the accuracy of my trained YOLO model?\n",
      "To validate the accuracy of your trained YOLO11 model, you can use the\n",
      "method in Python or the\n",
      "yolo detect val\n",
      "command in CLI. This will provide metrics like mAP50-95, mAP50, and more.\n",
      "from ultralytics import YOLO # Load the model model = YOLO ( \"path/to/best.pt\" ) # Validate the model metrics = model . val () print ( metrics . box . map ) # mAP50-95\n",
      "yolo detect val model = path/to/best.pt\n",
      "For more validation details, visit the\n",
      "What formats can I export a YOLO11 model to?\n",
      "3. [Источник: Computer Vision Tasks supported by Ultralytics YOLO11 - Ultralytics YOLO Docs]\n",
      "Train the YOLO11 model using the detection task.\n",
      "Use the model to make predictions by feeding in new images or video frames.\n",
      "from ultralytics import YOLO # Load a pre-trained YOLO model (adjust model type as needed) model = YOLO ( \"yolo11n.pt\" ) # n, s, m, l, x versions available # Perform object detection on an image results = model . predict ( source = \"image.jpg\" ) # Can also use video, directory, URL, etc. # Display the results results [ 0 ] . show () # Show the first image results\n",
      "# Run YOLO detection from the command line yolo detect model = yolo11n.pt source = \"image.jpg\" # Adjust model and source as needed\n",
      "For more detailed instructions, check out our\n",
      "What are the benefits of using YOLO11 for segmentation tasks?\n",
      "Using YOLO11 for segmentation tasks provides several advantages:\n",
      "The segmentation task leverages a variant of the U-Net architecture to achieve precise segmentation.\n",
      "YOLO11 is optimized for real-time applications, offering quick processing even for high-resolution images.\n",
      "It is ideal for medical imaging, autonomous driving, and other applications requiring detailed image segmentation.\n",
      "Learn more about the benefits and use cases of YOLO11 for segmentation in the\n",
      "image segmentation section\n",
      "4. [Источник: Ultralytics Solutions: Harness YOLO11 to Solve Real-World Problems - Ultralytics YOLO Docs]\n",
      "🚀: Estimate object speed using YOLO11 and object tracking techniques, crucial for applications like autonomous vehicles and traffic monitoring.\n",
      "🚀: Calculate distances between objects using\n",
      "centroids in YOLO11, essential for spatial analysis.\n",
      "🚀: Implement efficient queue management systems to minimize wait times and improve productivity using YOLO11.\n",
      "🚀: Organize and direct vehicle flow in parking areas with YOLO11, optimizing space utilization and user experience.\n",
      "📊: Conduct comprehensive data analysis to discover patterns and make informed decisions, leveraging YOLO11 for descriptive, predictive, and prescriptive analytics.\n",
      "Live Inference with Streamlit\n",
      "🚀: Leverage the power of YOLO11 for real-time\n",
      "directly through your web browser with a user-friendly Streamlit interface.\n",
      "Track Objects in Zone\n",
      "🎯 NEW: Learn how to track objects within specific zones of video frames using YOLO11 for precise and efficient monitoring.\n",
      "yolo SOLUTIONS SOLUTION_NAME ARGS\n",
      "is a required keyword.\n",
      "(optional) is one of:\n",
      "['count', 'heatmap', 'queue', 'speed', 'workout', 'analytics', 'trackzone']\n",
      "(optional) are custom\n",
      "pairs, such as\n",
      ", to override default settings.\n",
      "5. [Источник: GitHub - Koldim2001/YOLO-Patch-Based-Inference: Python library for YOLO small object detection and instance segmentation]\n",
      "classes_names: These are the human-readable names corresponding to the class IDs. They provide semantic labels for the detected objects, making the results easier to interpret.\n",
      "import cv2 from patched_yolo_infer import MakeCropsDetectThem , CombineDetections # Load the image img_path = \"test_image.jpg\" img = cv2 . imread ( img_path ) element_crops = MakeCropsDetectThem ( image = img , model_path = \"yolo11m.pt\" , segment = False , shape_x = 640 , shape_y = 640 , overlap_x = 25 , overlap_y = 25 , conf = 0.5 , iou = 0.7 ,\n",
      ") result = CombineDetections ( element_crops , nms_threshold = 0.25 ) # Final Results: img = result . image confidences = result . filtered_confidences boxes = result . filtered_boxes polygons = result . filtered_polygons classes_ids = result . filtered_classes_id classes_names = result . filtered_classes_names\n",
      "Explanation of possible input arguments:\n",
      "Class implementing cropping and passing crops through a neural network for detection/segmentation:\n",
      "The input image in BGR format.\n",
      "Path to the YOLO model.\n",
      "Pre-initialized model object. If provided, the model will be used directly instead of loading from model_path.\n",
      "Size of the input image for inference YOLO.\n",
      "Confidence threshold for detections YOLO.\n",
      "\n",
      "Ответь на вопрос: что такое YOLO\n"
     ]
    }
   ],
   "source": [
    "res = ask.process(query, message_number, collection_db_name, previous_messages, show_data_info)"
   ]
  },
  {
   "cell_type": "code",
   "execution_count": 37,
   "metadata": {},
   "outputs": [
    {
     "name": "stdout",
     "output_type": "stream",
     "text": [
      "YOLO (You Only Look Once) — это серия алгоритмов для быстрой и эффективной обработки изображений с целью обнаружения объектов. Вот основные характеристики и аспекты YOLO:\n",
      "\n",
      "1. **Типы анализа**:\n",
      "   - **Resolution-Based Analysis**: Анализ на основе разрешения изображения. Это метод, который определяет оптимальные размеры и перекрытие для обработки изображения с помощью YOLO.\n",
      "   - **Neural Network-Based Analysis**: Анализ на основе нейронных сетей. Это метод, который использует предварительно обученную модель YOLO для обнаружения объектов.\n",
      "\n",
      "2. **Преимущества**:\n",
      "   - **Быстрое обнаружение**: YOLO известен своей быстрой работой, что делает его подходящим для реального времени.\n",
      "   - **Детализированное обнаружение**: YOLO может обнаруживать и сегментировать объекты с высокой точностью.\n",
      "   - **Реализация различных задач**: YOLO может быть использован для задач обнаружения объектов, сегментации, анализа данных и других задач компьютерного зрения.\n",
      "\n",
      "3. **Примеры использования**:\n",
      "   - **Обнаружение объектов**: Использование YOLO для обнаружения объектов на изображении.\n",
      "   - **Трекинг объектов**: Использование YOLO для трекинга объектов в видео.\n",
      "   - **Сегментация объектов**: Использование YOLO для сегментации объектов на изображении.\n",
      "   - **Анализ данных**: Использование YOLO для анализа данных и выявления паттернов.\n",
      "\n",
      "4. **Доступные модели**:\n",
      "   - YOLO11 предлагает различные предварительно обученные модели, такие как YOLO11m, YOLO11n, которые могут быть использованы для различных задач.\n",
      "   - Эти модели могут быть обучены на различных датасетах, таких как COCO и ImageNet.\n",
      "\n",
      "5. **Обучение и валидация**:\n",
      "   - **Обучение**: Модель YOLO может быть обучена на вашем собственном датасете с помощью команды `model.train(data='my_custom_dataset.yaml', epochs=100, imgsz=640)`.\n",
      "   - **Валидация**: После обучения модель можно валидировать с помощью команды `model.val()`.\n",
      "\n",
      "6. **Инструменты и библиотеки**:\n",
      "   - **GitHub**: Есть доступ к библиотеке `YOLO-Patch-Based-Inference`, которая предоставляет инструменты для обработки изображений с помощью YOLO.\n",
      "   - **Ultralytics**: Ультраглобальная библиотека YOLO, которая предоставляет удобные инструменты для работы с YOLO, включая загрузку предварительно обученных моделей, обучение новых моделей и валидацию.\n",
      "\n",
      "7. **Пример кода**:\n",
      "   ```python\n",
      "   from ultralytics import YOLO\n",
      "\n",
      "   # Загрузка предварительно обученной модели\n",
      "   model = YOLO(\"yolo11m.pt\")\n",
      "\n",
      "   # Обнаружение объектов на изображении\n",
      "   results = model.predict(source=\"image.jpg\")\n",
      "\n",
      "   # Валидация модели\n",
      "   metrics = model.val()\n",
      "   print(metrics.box.map)  # mAP50-95\n",
      "   ```\n",
      "\n",
      "Таким образом, YOLO — это мощный инструмент для обработки изображений и видео, который может быть использован для широкого спектра задач компьютерного зрения.\n"
     ]
    }
   ],
   "source": [
    "print(res.answer)"
   ]
  }
 ],
 "metadata": {
  "kernelspec": {
   "display_name": "MAIN",
   "language": "python",
   "name": "python3"
  },
  "language_info": {
   "codemirror_mode": {
    "name": "ipython",
    "version": 3
   },
   "file_extension": ".py",
   "mimetype": "text/x-python",
   "name": "python",
   "nbconvert_exporter": "python",
   "pygments_lexer": "ipython3",
   "version": "3.11.10"
  }
 },
 "nbformat": 4,
 "nbformat_minor": 2
}
